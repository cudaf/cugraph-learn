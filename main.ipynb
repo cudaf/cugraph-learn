{
 "cells": [
  {
   "cell_type": "code",
   "execution_count": 40,
   "metadata": {},
   "outputs": [
    {
     "name": "stdout",
     "output_type": "stream",
     "text": [
      "vertex 5 distance is 1.0\n",
      "vertex 2 distance is 1.0\n",
      "vertex 3 distance is 2.0\n",
      "vertex 4 distance is 1.0\n",
      "vertex 1 distance is 0.0\n"
     ]
    }
   ],
   "source": [
    "import cugraph\n",
    "\n",
    "csv = 'data/min2d.csv'\n",
    "data = cudf.read_csv(csv, names=['src', 'dst', 'wt'], dtype=['int32', 'int32', 'float32'])\n",
    "\n",
    "G = cugraph.Graph()\n",
    "G.from_cudf_edgelist(data, source='src', destination='dst', edge_attr='wt')\n",
    "\n",
    "dist = cugraph.shortest_path(G, 1)\n",
    "for i in range(len(dist)):\n",
    "\tprint('vertex ' + str(dist['vertex'].iloc[i]) + ' distance is ' + str(dist['distance'].iloc[i]))"
   ]
  },
  {
   "cell_type": "code",
   "execution_count": null,
   "metadata": {},
   "outputs": [],
   "source": []
  },
  {
   "cell_type": "code",
   "execution_count": null,
   "metadata": {},
   "outputs": [],
   "source": []
  }
 ],
 "metadata": {
  "kernelspec": {
   "display_name": "RAPIDS Stable",
   "language": "python",
   "name": "python3"
  },
  "language_info": {
   "codemirror_mode": {
    "name": "ipython",
    "version": 3
   },
   "file_extension": ".py",
   "mimetype": "text/x-python",
   "name": "python",
   "nbconvert_exporter": "python",
   "pygments_lexer": "ipython3",
   "version": "3.8.5"
  }
 },
 "nbformat": 4,
 "nbformat_minor": 4
}
