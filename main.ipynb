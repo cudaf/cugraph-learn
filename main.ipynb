{
 "cells": [
  {
   "cell_type": "code",
   "execution_count": 30,
   "metadata": {},
   "outputs": [
    {
     "name": "stdout",
     "output_type": "stream",
     "text": [
      "Contact Graph:    (5, 2) (5, 3)\n",
      "Infectable Graph: (5, 2) (2, 3)\n",
      "Path graph:       (5, 2) (3, 3)\n",
      "   src  dst  wt\n",
      "1    0    2  10\n",
      "2    3    0   9\n",
      "   distance  vertex  predecessor\n",
      "0       9.0       3            0\n",
      "1      10.0       2            0\n",
      "2       0.0       0           -1\n"
     ]
    }
   ],
   "source": [
    "from random import random, randrange\n",
    "import numpy as np\n",
    "import cudf\n",
    "import cugraph\n",
    "\n",
    "\n",
    "# constants\n",
    "REC0 = 5   # recovery time range start\n",
    "REC1 = 15  # recovery time range end\n",
    "INF0 = 10  # infection time range start\n",
    "INF1 = 20  # infection time range end\n",
    "EDGP = 0.2 # edge probability\n",
    "SRC = 0    # source of infection\n",
    "\n",
    "\n",
    "def contactGraph(N):\n",
    "    v = cudf.DataFrame()\n",
    "    v['id'] = [i for i in range(N)]\n",
    "    v['wt'] = [randrange(REC0, REC1) for i in range(N)]\n",
    "    el = []\n",
    "    for i in range(N):\n",
    "        for j in range(N):\n",
    "            if j != i and random() <= EDGP:\n",
    "                wt = randrange(REC0, REC1)\n",
    "                el.append((i, j, wt))\n",
    "    e = cudf.DataFrame(el, columns=['src', 'dst', 'wt'])\n",
    "    return (v, e)\n",
    "\n",
    "\n",
    "def infectableGraph(v, e):\n",
    "    f = cudf.DataFrame()\n",
    "    f['vwt'] = v['wt'][e['src']].to_arrow().to_pylist()\n",
    "    return e[e['wt'] > f['vwt']]\n",
    "\n",
    "\n",
    "def pathGraph(e):\n",
    "    if e.empty:\n",
    "        return e\n",
    "    g = cugraph.Graph()\n",
    "    g.from_cudf_edgelist(e, source='src', destination='dst', edge_attr='wt')\n",
    "    d = cugraph.shortest_path(g, SRC)\n",
    "    return d[d['distance'] < 1e+38]\n",
    "\n",
    "\n",
    "# main\n",
    "v, e = contactGraph(5)\n",
    "print('Contact Graph:   ', v.shape, e.shape)\n",
    "\n",
    "f = infectableGraph(v, e)\n",
    "print('Infectable Graph:', v.shape, f.shape)\n",
    "\n",
    "d = pathGraph(f)\n",
    "print('Path graph:      ', v.shape, d.shape)\n",
    "\n",
    "print(f)\n",
    "print(d)\n",
    "\n",
    "# for i in range(len(d)):\n",
    "#     print('vertex ' + str(d['vertex'].iloc[i]) + ' distance is ' + str(d['distance'].iloc[i]))\n",
    "# csv = 'data/min2d.csv'\n",
    "# data = cudf.read_csv(csv, names=['src', 'dst', 'wt'], dtype=['int32', 'int32', 'float32'])"
   ]
  },
  {
   "cell_type": "code",
   "execution_count": null,
   "metadata": {},
   "outputs": [],
   "source": []
  }
 ],
 "metadata": {
  "kernelspec": {
   "display_name": "RAPIDS Stable",
   "language": "python",
   "name": "python3"
  },
  "language_info": {
   "codemirror_mode": {
    "name": "ipython",
    "version": 3
   },
   "file_extension": ".py",
   "mimetype": "text/x-python",
   "name": "python",
   "nbconvert_exporter": "python",
   "pygments_lexer": "ipython3",
   "version": "3.8.5"
  }
 },
 "nbformat": 4,
 "nbformat_minor": 4
}
